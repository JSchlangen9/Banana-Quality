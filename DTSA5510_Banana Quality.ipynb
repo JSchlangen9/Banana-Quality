{
 "cells": [
  {
   "cell_type": "code",
   "execution_count": 14,
   "metadata": {},
   "outputs": [],
   "source": [
    "#Importing Libraries and Packages\n",
    "import numpy as np\n",
    "import pandas as pd \n",
    "import seaborn as sns\n",
    "import matplotlib.pyplot as plt \n",
    "import requests\n",
    "from io import StringIO\n",
    "from sklearn.cluster import KMeans\n",
    "from sklearn.metrics import accuracy_score"
   ]
  },
  {
   "cell_type": "code",
   "execution_count": 24,
   "metadata": {},
   "outputs": [],
   "source": [
    "#Reading in Dataframe from project github repository\n",
    "url = 'https://raw.githubusercontent.com/JSchlangen9/Banana-Quality/main/banana_quality.csv'\n",
    "file = requests.get(url)\n",
    "string_data = StringIO(file.text)\n",
    "\n",
    "df = pd.read_csv(string_data)\n",
    "\n",
    "y_true = np.where(df['Quality'] == 'Good', 1, 0)\n",
    "\n",
    "df = df.drop(['Quality'], axis=1)"
   ]
  },
  {
   "cell_type": "code",
   "execution_count": 25,
   "metadata": {},
   "outputs": [
    {
     "data": {
      "text/plain": [
       "0.47525"
      ]
     },
     "execution_count": 25,
     "metadata": {},
     "output_type": "execute_result"
    }
   ],
   "source": [
    "model = KMeans(n_clusters=2)\n",
    "model.fit(df)\n",
    "\n",
    "predictions = model.predict(df)\n",
    "\n",
    "accuracy_score(predictions, y_true)\n"
   ]
  }
 ],
 "metadata": {
  "kernelspec": {
   "display_name": "Python 3",
   "language": "python",
   "name": "python3"
  },
  "language_info": {
   "codemirror_mode": {
    "name": "ipython",
    "version": 3
   },
   "file_extension": ".py",
   "mimetype": "text/x-python",
   "name": "python",
   "nbconvert_exporter": "python",
   "pygments_lexer": "ipython3",
   "version": "3.11.5"
  },
  "orig_nbformat": 4
 },
 "nbformat": 4,
 "nbformat_minor": 2
}
